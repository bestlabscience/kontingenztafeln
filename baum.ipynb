{
 "cells": [
  {
   "cell_type": "markdown",
   "id": "c5d3616b",
   "metadata": {},
   "source": [
    "# Aufgabe mit Bäumen"
   ]
  },
  {
   "cell_type": "code",
   "execution_count": null,
   "id": "79bfa7f7",
   "metadata": {},
   "outputs": [],
   "source": [
    "x <- c()    #hier die Zahlen spaltenweise, durch Kommata getrennt,einfügen"
   ]
  },
  {
   "cell_type": "code",
   "execution_count": null,
   "id": "b32948d7",
   "metadata": {},
   "outputs": [],
   "source": [
    "tafel <- as.table(matrix(x,2))"
   ]
  },
  {
   "cell_type": "code",
   "execution_count": null,
   "id": "35cb78cd",
   "metadata": {},
   "outputs": [],
   "source": []
  },
  {
   "cell_type": "code",
   "execution_count": null,
   "id": "8ec50c0b",
   "metadata": {},
   "outputs": [],
   "source": [
    "dimnames(tafel)[[1]] <- c() # hier die Beschriftungen der Zeilen einfügen\n",
    "dimnames(tafel)[[2]] <- c() # hier die Beschriftungen der Spalten einfügen"
   ]
  },
  {
   "cell_type": "code",
   "execution_count": null,
   "id": "25338df9",
   "metadata": {},
   "outputs": [],
   "source": []
  },
  {
   "cell_type": "markdown",
   "id": "bf37f02f",
   "metadata": {},
   "source": [
    "### $\\chi^2$-Test"
   ]
  },
  {
   "cell_type": "code",
   "execution_count": null,
   "id": "1660e6b4",
   "metadata": {},
   "outputs": [],
   "source": [
    "chisq.test(tafel, correct=FALSE)"
   ]
  },
  {
   "cell_type": "code",
   "execution_count": null,
   "id": "a8233cb0",
   "metadata": {},
   "outputs": [],
   "source": []
  }
 ],
 "metadata": {
  "kernelspec": {
   "display_name": "R",
   "language": "R",
   "name": "ir"
  },
  "language_info": {
   "codemirror_mode": "r",
   "file_extension": ".r",
   "mimetype": "text/x-r-source",
   "name": "R",
   "pygments_lexer": "r",
   "version": "4.2.2"
  }
 },
 "nbformat": 4,
 "nbformat_minor": 5
}
